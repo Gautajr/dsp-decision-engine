{
 "cells": [
  {
   "cell_type": "markdown",
   "metadata": {},
   "source": [
    "## SpockFlow Scorecard Component\n",
    "\n",
    "The SpockFlow Scorecard component facilitates the creation of scoring rules for both numerical and categorical data, allowing users to define criteria that assign scores and descriptive labels based on specified conditions. This component is particularly useful for evaluating data against predefined thresholds or patterns, providing insights through structured outputs.\n",
    "\n",
    "### Usage\n",
    "\n",
    "To begin using the Scorecard component, import the necessary packages and instantiate the `ScoreCard` object:"
   ]
  },
  {
   "cell_type": "code",
   "execution_count": 1,
   "metadata": {},
   "outputs": [],
   "source": [
    "import pandas as pd\n",
    "from spockflow.components import scorecard\n",
    "\n",
    "var_1 = \"var_1\"\n",
    "var_2 = \"var_2\"\n",
    "\n",
    "sc = scorecard.ScoreCard(\n",
    "    bin_prefix='SCORE_BIN_',\n",
    "    score_prefix='SCORE_VALUE_',\n",
    "    description_prefix='SCORE_DESC_'\n",
    ")"
   ]
  },
  {
   "cell_type": "markdown",
   "metadata": {},
   "source": [
    "\n",
    "### Adding Criteria\n",
    "\n",
    "Criteria can be added to the `ScoreCard` object using the `add_criteria` method. Each criterion defines how to evaluate a specific variable and assign scores based on conditions. There are two types of criteria: numerical and categorical.\n",
    "\n",
    "#### Numerical Criteria\n",
    "\n",
    "Numerical criteria evaluate numeric variables and can define score ranges, discrete values, and default behaviors:"
   ]
  },
  {
   "cell_type": "code",
   "execution_count": 2,
   "metadata": {},
   "outputs": [
    {
     "data": {
      "text/plain": [
       "ScoreCardModel(bin_prefix='SCORE_BIN_', score_prefix='SCORE_VALUE_', description_prefix='SCORE_DESC_', variable_params=[ScoreCriteriaNumerical(variable='var_1', other_score=DefaultScorePattern(group_id=3, score=73.0, description='default'), discrete_scores=[NumericalDiscreteScorePattern(values=[nan], group_id=2, score=73.0, description='missing')], range_scores=[RangeScorePattern(range=MatchRange(start=0.0, end=1.0), group_id=0, score=10.0, description='First bound var_1'), RangeScorePattern(range=MatchRange(start=1.0, end=2.0), group_id=1, score=30.0, description='2nd bound var_1')], type='numerical', included_bounds=(<Bounds.LOWER: 0>,))], version='2.2.0', score_scaling_params=None)"
      ]
     },
     "execution_count": 2,
     "metadata": {},
     "output_type": "execute_result"
    }
   ],
   "source": [
    "sc.add_criteria(\n",
    "    scorecard.ScoreCriteria(var_1, \"numerical\")\n",
    "    .add_range_score(0, 1, 10, \"First bound var_1\")\n",
    "    .add_range_score(1, 2, 30, \"2nd bound var_1\")\n",
    "    .add_discrete_score([None], 73, \"missing\")\n",
    "    .set_other_score(73, \"default\")\n",
    ")"
   ]
  },
  {
   "cell_type": "markdown",
   "metadata": {},
   "source": [
    "- **Range Scores**: Assign scores based on numeric ranges. For example, `add_range_score(0, 1, 10, \"First bound var_1\")` assigns a score of 10 to `SCORE_VALUE_var_1` when `0 <= var_1 < 1`.\n",
    "- **Discrete Scores**: Assign scores for specific values. `add_discrete_score([None], 73, \"missing\")` assigns a score of 73 to `SCORE_VALUE_var_1` when `var_1` is `None`.\n",
    "- **Default Score**: Set a default score and description for unmatched values. `set_other_score(73, \"default\")` assigns a score of 73 to `SCORE_VALUE_var_1` for all other cases."
   ]
  },
  {
   "cell_type": "markdown",
   "metadata": {},
   "source": [
    "#### Categorical Criteria\n",
    "\n",
    "Categorical criteria evaluate text variables and can define exact matches or patterns (regex):\n"
   ]
  },
  {
   "cell_type": "code",
   "execution_count": 3,
   "metadata": {},
   "outputs": [
    {
     "data": {
      "text/plain": [
       "ScoreCardModel(bin_prefix='SCORE_BIN_', score_prefix='SCORE_VALUE_', description_prefix='SCORE_DESC_', variable_params=[ScoreCriteriaNumerical(variable='var_1', other_score=DefaultScorePattern(group_id=3, score=73.0, description='default'), discrete_scores=[NumericalDiscreteScorePattern(values=[nan], group_id=2, score=73.0, description='missing')], range_scores=[RangeScorePattern(range=MatchRange(start=0.0, end=1.0), group_id=0, score=10.0, description='First bound var_1'), RangeScorePattern(range=MatchRange(start=1.0, end=2.0), group_id=1, score=30.0, description='2nd bound var_1')], type='numerical', included_bounds=(<Bounds.LOWER: 0>,)), ScoreCriteriaCategorical(variable='var_2', other_score=None, discrete_scores=[CategoricalDiscreteScorePattern(values=['a', 'b', 'c'], group_id=0, score=10.0, description='First pattern var_2'), CategoricalDiscreteScorePattern(values=['[b-z]'], group_id=1, score=20.0, description='Second pattern var_2')], type='categorical', default_behavior='regex')], version='2.2.0', score_scaling_params=None)"
      ]
     },
     "execution_count": 3,
     "metadata": {},
     "output_type": "execute_result"
    }
   ],
   "source": [
    "sc.add_criteria(\n",
    "    scorecard.ScoreCriteria(var_2, \"categorical\", default_behavior=\"regex\")\n",
    "    .add_discrete_score(['a', 'b', 'c'], 10, \"First pattern var_2\")\n",
    "    .add_discrete_score(['[b-z]'], 20, \"Second pattern var_2\")\n",
    ")"
   ]
  },
  {
   "cell_type": "markdown",
   "metadata": {},
   "source": [
    "\n",
    "- **Exact Matches**: Assign scores based on exact text matches. `add_discrete_score(['a', 'b', 'c'], 10, \"First pattern var_2\")` assigns a score of 10 to `SCORE_VALUE_var_2` when `var_2` is 'a', 'b', or 'c'.\n",
    "- **Regex Matches**: Evaluate variables using regex patterns. `add_discrete_score(['[b-z]'], 20, \"Second pattern var_2\")` assigns a score of 20 to `SCORE_VALUE_var_2` when `var_2` matches the regex pattern `[b-z]`.\n",
    "\n",
    "### Automatic Binning\n",
    "\n",
    "By default, the Scorecard component automatically determines bin categories (`SCORE_BIN_var_1`, `SCORE_BIN_var_2`) based on the order in which criteria are added. The first criterion added determines `SCORE_BIN_var_1`, the second criterion determines `SCORE_BIN_var_2`, and so forth. These bin categories categorize input values based on the criteria matched.\n",
    "\n",
    "#### Overriding Bins\n",
    "\n",
    "Bins can be overridden if needed. This allows users to customize bin categories or reorder them for specific requirements. The `override_idx` parameter in the `add_range_score`, `add_discrete_score`, and `set_default` methods allows specifying the index of the bin to override:\n",
    "\n",
    "```python\n",
    "sc.add_criteria(\n",
    "    scorecard.ScoreCriteria(var_1, \"numerical\")\n",
    "    .add_range_score(0, 1, 10, \"First bound var_1\", override_idx=5)\n",
    ")\n",
    "```"
   ]
  },
  {
   "cell_type": "markdown",
   "metadata": {},
   "source": [
    "\n",
    "### Execution and Results\n",
    "\n",
    "To execute the Scorecard on a dataset, use the `execute` method:"
   ]
  },
  {
   "cell_type": "code",
   "execution_count": 4,
   "metadata": {},
   "outputs": [
    {
     "data": {
      "text/html": [
       "<div>\n",
       "<style scoped>\n",
       "    .dataframe tbody tr th:only-of-type {\n",
       "        vertical-align: middle;\n",
       "    }\n",
       "\n",
       "    .dataframe tbody tr th {\n",
       "        vertical-align: top;\n",
       "    }\n",
       "\n",
       "    .dataframe thead th {\n",
       "        text-align: right;\n",
       "    }\n",
       "</style>\n",
       "<table border=\"1\" class=\"dataframe\">\n",
       "  <thead>\n",
       "    <tr style=\"text-align: right;\">\n",
       "      <th></th>\n",
       "      <th>var_1</th>\n",
       "      <th>var_2</th>\n",
       "    </tr>\n",
       "  </thead>\n",
       "  <tbody>\n",
       "    <tr>\n",
       "      <th>0</th>\n",
       "      <td>0.0</td>\n",
       "      <td>a</td>\n",
       "    </tr>\n",
       "    <tr>\n",
       "      <th>1</th>\n",
       "      <td>1.0</td>\n",
       "      <td>b</td>\n",
       "    </tr>\n",
       "    <tr>\n",
       "      <th>2</th>\n",
       "      <td>2.0</td>\n",
       "      <td>z</td>\n",
       "    </tr>\n",
       "    <tr>\n",
       "      <th>3</th>\n",
       "      <td>NaN</td>\n",
       "      <td>a</td>\n",
       "    </tr>\n",
       "    <tr>\n",
       "      <th>4</th>\n",
       "      <td>0.0</td>\n",
       "      <td>a</td>\n",
       "    </tr>\n",
       "    <tr>\n",
       "      <th>5</th>\n",
       "      <td>1.0</td>\n",
       "      <td>b</td>\n",
       "    </tr>\n",
       "    <tr>\n",
       "      <th>6</th>\n",
       "      <td>2.0</td>\n",
       "      <td>z</td>\n",
       "    </tr>\n",
       "    <tr>\n",
       "      <th>7</th>\n",
       "      <td>NaN</td>\n",
       "      <td>9</td>\n",
       "    </tr>\n",
       "  </tbody>\n",
       "</table>\n",
       "</div>"
      ],
      "text/plain": [
       "   var_1 var_2\n",
       "0    0.0     a\n",
       "1    1.0     b\n",
       "2    2.0     z\n",
       "3    NaN     a\n",
       "4    0.0     a\n",
       "5    1.0     b\n",
       "6    2.0     z\n",
       "7    NaN     9"
      ]
     },
     "execution_count": 4,
     "metadata": {},
     "output_type": "execute_result"
    }
   ],
   "source": [
    "test_data = pd.DataFrame({\n",
    "    \"var_1\": [   0,   1,   2, None,   0,   1,   2, None],\n",
    "    \"var_2\": [ 'a', 'b', 'z',  'a', 'a', 'b', 'z',  '9'],\n",
    "})\n",
    "test_data"
   ]
  },
  {
   "cell_type": "code",
   "execution_count": 5,
   "metadata": {},
   "outputs": [
    {
     "data": {
      "text/html": [
       "<div>\n",
       "<style scoped>\n",
       "    .dataframe tbody tr th:only-of-type {\n",
       "        vertical-align: middle;\n",
       "    }\n",
       "\n",
       "    .dataframe tbody tr th {\n",
       "        vertical-align: top;\n",
       "    }\n",
       "\n",
       "    .dataframe thead th {\n",
       "        text-align: right;\n",
       "    }\n",
       "</style>\n",
       "<table border=\"1\" class=\"dataframe\">\n",
       "  <thead>\n",
       "    <tr style=\"text-align: right;\">\n",
       "      <th></th>\n",
       "      <th>SCORE_BIN_var_1</th>\n",
       "      <th>SCORE_VALUE_var_1</th>\n",
       "      <th>SCORE_DESC_var_1</th>\n",
       "      <th>SCORE_BIN_var_2</th>\n",
       "      <th>SCORE_VALUE_var_2</th>\n",
       "      <th>SCORE_DESC_var_2</th>\n",
       "      <th>SCORE_VALUE_SUM</th>\n",
       "    </tr>\n",
       "  </thead>\n",
       "  <tbody>\n",
       "    <tr>\n",
       "      <th>0</th>\n",
       "      <td>0</td>\n",
       "      <td>10.0</td>\n",
       "      <td>First bound var_1</td>\n",
       "      <td>0</td>\n",
       "      <td>10.0</td>\n",
       "      <td>First pattern var_2</td>\n",
       "      <td>20.0</td>\n",
       "    </tr>\n",
       "    <tr>\n",
       "      <th>1</th>\n",
       "      <td>1</td>\n",
       "      <td>30.0</td>\n",
       "      <td>2nd bound var_1</td>\n",
       "      <td>1</td>\n",
       "      <td>20.0</td>\n",
       "      <td>Second pattern var_2</td>\n",
       "      <td>50.0</td>\n",
       "    </tr>\n",
       "    <tr>\n",
       "      <th>2</th>\n",
       "      <td>3</td>\n",
       "      <td>73.0</td>\n",
       "      <td>default</td>\n",
       "      <td>1</td>\n",
       "      <td>20.0</td>\n",
       "      <td>Second pattern var_2</td>\n",
       "      <td>93.0</td>\n",
       "    </tr>\n",
       "    <tr>\n",
       "      <th>3</th>\n",
       "      <td>2</td>\n",
       "      <td>73.0</td>\n",
       "      <td>missing</td>\n",
       "      <td>0</td>\n",
       "      <td>10.0</td>\n",
       "      <td>First pattern var_2</td>\n",
       "      <td>83.0</td>\n",
       "    </tr>\n",
       "    <tr>\n",
       "      <th>4</th>\n",
       "      <td>0</td>\n",
       "      <td>10.0</td>\n",
       "      <td>First bound var_1</td>\n",
       "      <td>0</td>\n",
       "      <td>10.0</td>\n",
       "      <td>First pattern var_2</td>\n",
       "      <td>20.0</td>\n",
       "    </tr>\n",
       "    <tr>\n",
       "      <th>5</th>\n",
       "      <td>1</td>\n",
       "      <td>30.0</td>\n",
       "      <td>2nd bound var_1</td>\n",
       "      <td>1</td>\n",
       "      <td>20.0</td>\n",
       "      <td>Second pattern var_2</td>\n",
       "      <td>50.0</td>\n",
       "    </tr>\n",
       "    <tr>\n",
       "      <th>6</th>\n",
       "      <td>3</td>\n",
       "      <td>73.0</td>\n",
       "      <td>default</td>\n",
       "      <td>1</td>\n",
       "      <td>20.0</td>\n",
       "      <td>Second pattern var_2</td>\n",
       "      <td>93.0</td>\n",
       "    </tr>\n",
       "    <tr>\n",
       "      <th>7</th>\n",
       "      <td>2</td>\n",
       "      <td>73.0</td>\n",
       "      <td>missing</td>\n",
       "      <td>-1</td>\n",
       "      <td>-1.0</td>\n",
       "      <td>None</td>\n",
       "      <td>72.0</td>\n",
       "    </tr>\n",
       "  </tbody>\n",
       "</table>\n",
       "</div>"
      ],
      "text/plain": [
       "   SCORE_BIN_var_1  SCORE_VALUE_var_1   SCORE_DESC_var_1  SCORE_BIN_var_2  \\\n",
       "0                0               10.0  First bound var_1                0   \n",
       "1                1               30.0    2nd bound var_1                1   \n",
       "2                3               73.0            default                1   \n",
       "3                2               73.0            missing                0   \n",
       "4                0               10.0  First bound var_1                0   \n",
       "5                1               30.0    2nd bound var_1                1   \n",
       "6                3               73.0            default                1   \n",
       "7                2               73.0            missing               -1   \n",
       "\n",
       "   SCORE_VALUE_var_2      SCORE_DESC_var_2  SCORE_VALUE_SUM  \n",
       "0               10.0   First pattern var_2             20.0  \n",
       "1               20.0  Second pattern var_2             50.0  \n",
       "2               20.0  Second pattern var_2             93.0  \n",
       "3               10.0   First pattern var_2             83.0  \n",
       "4               10.0   First pattern var_2             20.0  \n",
       "5               20.0  Second pattern var_2             50.0  \n",
       "6               20.0  Second pattern var_2             93.0  \n",
       "7               -1.0                  None             72.0  "
      ]
     },
     "execution_count": 5,
     "metadata": {},
     "output_type": "execute_result"
    }
   ],
   "source": [
    "result_df = sc.execute(inputs=test_data)\n",
    "result_df"
   ]
  },
  {
   "cell_type": "markdown",
   "metadata": {},
   "source": [
    "The resulting DataFrame (`result_df`) will contain columns for each score, bin, and description based on the evaluated criteria.\n",
    "\n",
    "### Saving and Loading Configurations\n",
    "\n",
    "To save the configuration of the Scorecard for future use or deployment, use a configuration manager such as `YamlConfigManager`:\n"
   ]
  },
  {
   "cell_type": "code",
   "execution_count": 6,
   "metadata": {},
   "outputs": [],
   "source": [
    "from spockflow.inference.config.loader.yamlmanager import YamlConfigManager\n",
    "\n",
    "conf_manager = YamlConfigManager()\n",
    "conf_manager.save_to_config(\n",
    "    model_name=\"demo_spock_model\",\n",
    "    model_version=\"1.0.0\",\n",
    "    namespace=\"scorecard_config\",\n",
    "    config=sc.model_dump(mode='json')\n",
    ")"
   ]
  },
  {
   "cell_type": "markdown",
   "metadata": {},
   "source": [
    "### Loading and Using Configurations\n",
    "\n",
    "Load a saved Scorecard configuration from a YAML file and instantiate the `ScoreCard` object using `from_config`:"
   ]
  },
  {
   "cell_type": "code",
   "execution_count": 7,
   "metadata": {},
   "outputs": [
    {
     "data": {
      "application/vnd.jupyter.widget-view+json": {
       "model_id": "46739ea3aa8241d6a8de38360150ed4d",
       "version_major": 2,
       "version_minor": 0
      },
      "text/plain": [
       "VBox(children=(GridspecLayout(children=(Text(value='SCORE_BIN_', description='Bin Prefix:', layout=Layout(grid…"
      ]
     },
     "metadata": {},
     "output_type": "display_data"
    }
   ],
   "source": [
    "config = conf_manager.get_config(\"demo_spock_model\", \"1.0.0\")['scorecard_config']\n",
    "sc_loaded = scorecard.ScoreCard.from_config(\"\").load(config)\n",
    "\n",
    "# Retrieve view model and display widget\n",
    "vm = sc_loaded.get_view_model()\n",
    "widget = vm.get_widget()"
   ]
  }
 ],
 "metadata": {
  "kernelspec": {
   "display_name": "spock",
   "language": "python",
   "name": "python3"
  },
  "language_info": {
   "codemirror_mode": {
    "name": "ipython",
    "version": 3
   },
   "file_extension": ".py",
   "mimetype": "text/x-python",
   "name": "python",
   "nbconvert_exporter": "python",
   "pygments_lexer": "ipython3",
   "version": "3.12.2"
  }
 },
 "nbformat": 4,
 "nbformat_minor": 2
}
