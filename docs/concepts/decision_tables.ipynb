{
 "cells": [
  {
   "cell_type": "markdown",
   "metadata": {},
   "source": [
    "# SpockFlow Decision Table Component\n",
    "\n",
    "The Decision Table component in SpockFlow allows users to define and execute decision tables, which are structured mappings of input conditions to output values. Decision tables are particularly useful for explicit and deterministic rule-based decision-making.\n",
    "\n",
    "### Usage\n",
    "\n",
    "To begin using the Decision Table component, import the necessary packages and instantiate a `DecisionTable` object:\n"
   ]
  },
  {
   "cell_type": "code",
   "execution_count": 1,
   "metadata": {},
   "outputs": [],
   "source": [
    "import pandas as pd\n",
    "from spockflow.components import dtable\n",
    "\n",
    "input_v1 = \"input_v1\"\n",
    "input_v2 = \"input_v2\"\n",
    "\n",
    "example_dt = dtable.DecisionTable()"
   ]
  },
  {
   "cell_type": "markdown",
   "metadata": {},
   "source": [
    "#### Adding Conditions and Outputs\n",
    "\n",
    "Conditions and corresponding outputs can be added to the `DecisionTable` using the `add` and `output` methods respectively. Each condition specifies an operation or comparison involving input variables, while outputs define the values or descriptions associated with matched conditions.\n"
   ]
  },
  {
   "cell_type": "code",
   "execution_count": 2,
   "metadata": {},
   "outputs": [
    {
     "data": {
      "text/plain": [
       "DecisionTable(operations=[DTMin(predicate=[0, 1, 2, 3, 4, 5, 6, 7, 8, 9, 10], op='MIN'), DTMax(predicate=[1, 2, 3, 4, 5, 6, 7, 8, 9, 10, 11], op='MAX'), DTMin(predicate=[0, 0, 0, 0, 0, 0, 1, 1, 1, 1, 1], op='MIN'), DTMax(predicate=[1, 1, 1, 1, 1, 1, 2, 2, 2, 2, 2], op='MAX')], operation_inputs=['input_v1', 'input_v1', 'input_v2', 'input_v2'], outputs={'value': [1, 2, 0, None, -1, 20, 1, 2, 3, 4, 5], 'description': ['a', 'b', 'c', 'd', 'e', 'f', 'g', 'h', 'i', 'j', 'k']}, allow_multi_result=False, default_value=   value description\n",
       "0    999          NA)"
      ]
     },
     "execution_count": 2,
     "metadata": {},
     "output_type": "execute_result"
    }
   ],
   "source": [
    "example_dt\\\n",
    "    .add(dtable.DTMin,   input_v1, [0,1,2,3,4,5,6,7,8,9,10])\\\n",
    "    .add(dtable.DTMax,   input_v1, [1,2,3,4,5,6,7,8,9,10,11])\\\n",
    "    .add(dtable.DTMin,   input_v2, [0,0,0,0,0,0,1,1,1,1,1])\\\n",
    "    .add(dtable.DTMax,   input_v2, [1,1,1,1,1,1,2,2,2,2,2])\\\n",
    "    .set_default(pd.DataFrame({\"value\": [999], \"description\": [\"NA\"]}))\\\n",
    "    .output(\"value\", [1,2,0,None,-1,20,1,2,3,4,5])\\\n",
    "    .output(\"description\", [\"a\", \"b\", \"c\", \"d\", \"e\", \"f\", \"g\", \"h\", \"i\", \"j\", \"k\"])\n"
   ]
  },
  {
   "cell_type": "markdown",
   "metadata": {},
   "source": [
    "#### Execution\n",
    "\n",
    "Execute the Decision Table on input data using the `execute` method:"
   ]
  },
  {
   "cell_type": "code",
   "execution_count": 3,
   "metadata": {},
   "outputs": [
    {
     "data": {
      "text/html": [
       "<div>\n",
       "<style scoped>\n",
       "    .dataframe tbody tr th:only-of-type {\n",
       "        vertical-align: middle;\n",
       "    }\n",
       "\n",
       "    .dataframe tbody tr th {\n",
       "        vertical-align: top;\n",
       "    }\n",
       "\n",
       "    .dataframe thead th {\n",
       "        text-align: right;\n",
       "    }\n",
       "</style>\n",
       "<table border=\"1\" class=\"dataframe\">\n",
       "  <thead>\n",
       "    <tr style=\"text-align: right;\">\n",
       "      <th></th>\n",
       "      <th>value</th>\n",
       "      <th>description</th>\n",
       "    </tr>\n",
       "  </thead>\n",
       "  <tbody>\n",
       "    <tr>\n",
       "      <th>0</th>\n",
       "      <td>20.0</td>\n",
       "      <td>f</td>\n",
       "    </tr>\n",
       "    <tr>\n",
       "      <th>1</th>\n",
       "      <td>NaN</td>\n",
       "      <td>d</td>\n",
       "    </tr>\n",
       "    <tr>\n",
       "      <th>2</th>\n",
       "      <td>999.0</td>\n",
       "      <td>NA</td>\n",
       "    </tr>\n",
       "    <tr>\n",
       "      <th>3</th>\n",
       "      <td>1.0</td>\n",
       "      <td>a</td>\n",
       "    </tr>\n",
       "    <tr>\n",
       "      <th>4</th>\n",
       "      <td>999.0</td>\n",
       "      <td>NA</td>\n",
       "    </tr>\n",
       "  </tbody>\n",
       "</table>\n",
       "</div>"
      ],
      "text/plain": [
       "   value description\n",
       "0   20.0           f\n",
       "1    NaN           d\n",
       "2  999.0          NA\n",
       "3    1.0           a\n",
       "4  999.0          NA"
      ]
     },
     "execution_count": 3,
     "metadata": {},
     "output_type": "execute_result"
    }
   ],
   "source": [
    "input_data = pd.DataFrame({input_v1: [5, 3, 8, 0, 10], input_v2: [0,0,0,0,4]})\n",
    "result_df = example_dt.execute(inputs=input_data)\n",
    "result_df"
   ]
  },
  {
   "cell_type": "markdown",
   "metadata": {},
   "source": [
    "The `result_df` DataFrame will contain columns for each output defined, with rows corresponding to the matched conditions based on the input data.\n",
    "\n",
    "### Saving and Loading Configurations\n",
    "\n",
    "Similar to other components in SpockFlow, configurations of Decision Tables can be saved and loaded using configuration managers such as `YamlConfigManager`. This allows for easy deployment and reuse of decision rules.\n"
   ]
  },
  {
   "cell_type": "code",
   "execution_count": 4,
   "metadata": {},
   "outputs": [
    {
     "name": "stderr",
     "output_type": "stream",
     "text": [
      "/Users/cp371651/.pyenv/versions/3.12.2/envs/spock/lib/python3.12/site-packages/pydantic/main.py:314: UserWarning: Pydantic serializer warnings:\n",
      "  Expected `generator` but got `list` - serialized value may not be as expected\n",
      "  Expected `generator` but got `list` - serialized value may not be as expected\n",
      "  return self.__pydantic_serializer__.to_python(\n"
     ]
    },
    {
     "data": {
      "text/html": [
       "<div>\n",
       "<style scoped>\n",
       "    .dataframe tbody tr th:only-of-type {\n",
       "        vertical-align: middle;\n",
       "    }\n",
       "\n",
       "    .dataframe tbody tr th {\n",
       "        vertical-align: top;\n",
       "    }\n",
       "\n",
       "    .dataframe thead th {\n",
       "        text-align: right;\n",
       "    }\n",
       "</style>\n",
       "<table border=\"1\" class=\"dataframe\">\n",
       "  <thead>\n",
       "    <tr style=\"text-align: right;\">\n",
       "      <th></th>\n",
       "      <th>description</th>\n",
       "      <th>value</th>\n",
       "    </tr>\n",
       "  </thead>\n",
       "  <tbody>\n",
       "    <tr>\n",
       "      <th>0</th>\n",
       "      <td>f</td>\n",
       "      <td>20.0</td>\n",
       "    </tr>\n",
       "    <tr>\n",
       "      <th>1</th>\n",
       "      <td>d</td>\n",
       "      <td>NaN</td>\n",
       "    </tr>\n",
       "    <tr>\n",
       "      <th>2</th>\n",
       "      <td>NA</td>\n",
       "      <td>999.0</td>\n",
       "    </tr>\n",
       "    <tr>\n",
       "      <th>3</th>\n",
       "      <td>a</td>\n",
       "      <td>1.0</td>\n",
       "    </tr>\n",
       "    <tr>\n",
       "      <th>4</th>\n",
       "      <td>NA</td>\n",
       "      <td>999.0</td>\n",
       "    </tr>\n",
       "  </tbody>\n",
       "</table>\n",
       "</div>"
      ],
      "text/plain": [
       "  description  value\n",
       "0           f   20.0\n",
       "1           d    NaN\n",
       "2          NA  999.0\n",
       "3           a    1.0\n",
       "4          NA  999.0"
      ]
     },
     "execution_count": 4,
     "metadata": {},
     "output_type": "execute_result"
    }
   ],
   "source": [
    "from spockflow.inference.config.loader.yamlmanager import YamlConfigManager\n",
    "\n",
    "conf_manager = YamlConfigManager()\n",
    "conf_manager.save_to_config(\n",
    "    model_name=\"demo_spock_model\",\n",
    "    model_version=\"1.0.0\",\n",
    "    namespace=\"decision_table_config\",\n",
    "    config=example_dt.model_dump(mode='json')\n",
    ")\n",
    "\n",
    "# Load configuration\n",
    "config = conf_manager.get_config(\"demo_spock_model\", \"1.0.0\")\n",
    "dt_loaded = dtable.DecisionTable.from_config(\"decision_table_config\").load(config)\n",
    "\n",
    "# Execute with loaded configuration\n",
    "result_df_loaded = dt_loaded.execute(inputs=input_data)\n",
    "result_df_loaded"
   ]
  }
 ],
 "metadata": {
  "kernelspec": {
   "display_name": "spock",
   "language": "python",
   "name": "python3"
  },
  "language_info": {
   "codemirror_mode": {
    "name": "ipython",
    "version": 3
   },
   "file_extension": ".py",
   "mimetype": "text/x-python",
   "name": "python",
   "nbconvert_exporter": "python",
   "pygments_lexer": "ipython3",
   "version": "3.12.2"
  }
 },
 "nbformat": 4,
 "nbformat_minor": 2
}
