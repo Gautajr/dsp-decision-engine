{
 "cells": [
  {
   "cell_type": "markdown",
   "metadata": {},
   "source": [
    "# Introduction"
   ]
  },
  {
   "cell_type": "code",
   "execution_count": 1,
   "metadata": {},
   "outputs": [],
   "source": [
    "import pylitegraph"
   ]
  },
  {
   "cell_type": "code",
   "execution_count": 3,
   "metadata": {},
   "outputs": [
    {
     "data": {
      "application/vnd.jupyter.widget-view+json": {
       "model_id": "ee0a1c600e924210b5a69e9c6d49a670",
       "version_major": 2,
       "version_minor": 0
      },
      "text/plain": [
       "LiteGraphWidget(graph={'nodes': {'test': {'node_type': 'step', 'inputs': ['a'], 'outputs': ['value'], 'title':…"
      ]
     },
     "execution_count": 3,
     "metadata": {},
     "output_type": "execute_result"
    }
   ],
   "source": [
    "w = pylitegraph.LiteGraphWidget(\n",
    "    width=1280, \n",
    "    height=600,\n",
    "    graph={\n",
    "        \"nodes\": {\n",
    "            \"test\": {\"node_type\": \"step\", \"inputs\": [\"a\"], \"outputs\":[\"value\"], \"title\": \"test\", \"x\": 200, \"y\": 200},\n",
    "            \"test2\": {\"node_type\": \"step\", \"inputs\": [\"a\"], \"outputs\":[\"value\"], \"x\": 700, \"y\": 200}\n",
    "        },\n",
    "        \"connections\": [\n",
    "            {\"from_node\": \"test\", \"output_id\": \"value\", \"to_node\": \"test2\", \"input_id\": \"a\"},\n",
    "        ]\n",
    "    }\n",
    ")\n",
    "w"
   ]
  },
  {
   "cell_type": "code",
   "execution_count": 7,
   "metadata": {},
   "outputs": [],
   "source": [
    "w.width = 1280"
   ]
  },
  {
   "cell_type": "code",
   "execution_count": null,
   "metadata": {},
   "outputs": [],
   "source": [
    "assert w.value == 'Hello World'"
   ]
  }
 ],
 "metadata": {
  "kernelspec": {
   "display_name": "Python 3 (ipykernel)",
   "language": "python",
   "name": "python3"
  },
  "language_info": {
   "codemirror_mode": {
    "name": "ipython",
    "version": 3
   },
   "file_extension": ".py",
   "mimetype": "text/x-python",
   "name": "python",
   "nbconvert_exporter": "python",
   "pygments_lexer": "ipython3",
   "version": "3.11.4"
  }
 },
 "nbformat": 4,
 "nbformat_minor": 4
}
